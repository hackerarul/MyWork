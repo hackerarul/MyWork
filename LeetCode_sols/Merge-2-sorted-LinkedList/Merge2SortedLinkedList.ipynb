{
  "nbformat": 4,
  "nbformat_minor": 0,
  "metadata": {
    "colab": {
      "name": "Merge2SortedLinkedList.ipynb",
      "provenance": [],
      "collapsed_sections": []
    },
    "kernelspec": {
      "name": "python3",
      "display_name": "Python 3"
    }
  },
  "cells": [
    {
      "cell_type": "markdown",
      "metadata": {
        "id": "M0KrEMCu7cCq",
        "colab_type": "text"
      },
      "source": [
        "**Merge 2 sorted linked lists.**"
      ]
    },
    {
      "cell_type": "markdown",
      "metadata": {
        "id": "TWaOY3bn7YWP",
        "colab_type": "text"
      },
      "source": [
        "Merge two sorted linked lists and return it as a new sorted list. The new list should be made by splicing together the nodes of the first two lists.\n",
        "\n",
        "Example:\n",
        "\n",
        "Input: 1->2->4, 1->3->4\n",
        "Output: 1->1->2->3->4->4"
      ]
    },
    {
      "cell_type": "code",
      "metadata": {
        "id": "axghYlnE7TpX",
        "colab_type": "code",
        "colab": {}
      },
      "source": [
        "# Definition for singly-linked list.\n",
        "class ListNode:\n",
        "       def __init__(self, val=0, next=None):\n",
        "         self.val = val\n",
        "         self.next = next\n",
        "class Solution:\n",
        "    def mergeTwoLists(self, l1: ListNode, l2: ListNode) -> ListNode:\n",
        "        sorted_list = ListNode()\n",
        "        head = sorted_list\n",
        "        while l1!=None and l2!=None:\n",
        "            if l1.val < l2.val:\n",
        "                head.next = ListNode(l1.val)\n",
        "                l1 = l1.next\n",
        "            else:\n",
        "                head.next = ListNode(l2.val)\n",
        "                l2 = l2.next\n",
        "            head = head.next\n",
        "        head.next = l1 or l2\n",
        "        return sorted_list.next"
      ],
      "execution_count": 0,
      "outputs": []
    }
  ]
}