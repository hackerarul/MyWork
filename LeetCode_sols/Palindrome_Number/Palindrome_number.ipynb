{
  "nbformat": 4,
  "nbformat_minor": 0,
  "metadata": {
    "colab": {
      "name": "Palindrome_number.ipynb",
      "provenance": [],
      "collapsed_sections": []
    },
    "kernelspec": {
      "name": "python3",
      "display_name": "Python 3"
    }
  },
  "cells": [
    {
      "cell_type": "markdown",
      "metadata": {
        "id": "t0yHTEsR55QX",
        "colab_type": "text"
      },
      "source": [
        "**Check whether a palindrome or not.**"
      ]
    },
    {
      "cell_type": "markdown",
      "metadata": {
        "id": "UTU2pyji-1qt",
        "colab_type": "text"
      },
      "source": [
        "Determine whether an integer is a palindrome. An integer is a palindrome when it reads the same backward as forward.\n",
        "\n",
        "Example 1:\n",
        "\n",
        "Input: 121\n",
        "Output: true\n",
        "Example 2:\n",
        "\n",
        "Input: -121\n",
        "Output: false\n",
        "Explanation: From left to right, it reads -121. From right to left, it becomes 121-. Therefore it is not a palindrome.\n",
        "Example 3:\n",
        "\n",
        "Input: 10\n",
        "Output: false\n",
        "Explanation: Reads 01 from right to left. Therefore it is not a palindrome.\n",
        "Follow up:\n",
        "\n",
        "Coud you solve it without converting the integer to a string?"
      ]
    },
    {
      "cell_type": "markdown",
      "metadata": {
        "id": "uNpMEU4_6Ajd",
        "colab_type": "text"
      },
      "source": [
        "a) After converting the integer to a string."
      ]
    },
    {
      "cell_type": "code",
      "metadata": {
        "id": "4EjiqcVW52fE",
        "colab_type": "code",
        "colab": {}
      },
      "source": [
        "class Solution:\n",
        "    def isPalindrome(self, x: int) -> bool:\n",
        "        if x<0: return False\n",
        "        return int(str(x)[::-1]) == x"
      ],
      "execution_count": 0,
      "outputs": []
    },
    {
      "cell_type": "markdown",
      "metadata": {
        "id": "OtlvVMgy6Eu_",
        "colab_type": "text"
      },
      "source": [
        "b) Without str conversion."
      ]
    },
    {
      "cell_type": "code",
      "metadata": {
        "id": "j2H2PLOZ6HvB",
        "colab_type": "code",
        "colab": {}
      },
      "source": [
        "class Solution:\n",
        "    def isPalindrome(self, x: int) -> bool:\n",
        "        if x<0 or (x % 10 == 0 and x != 0): return False\n",
        "        # when x is positive\n",
        "        rev = 0\n",
        "        while x > rev:\n",
        "            rev = (rev * 10) + (x % 10)\n",
        "            x = floor(x/10)\n",
        "        return x == rev or x == floor(rev/10)"
      ],
      "execution_count": 0,
      "outputs": []
    }
  ]
}