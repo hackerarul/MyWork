{
  "nbformat": 4,
  "nbformat_minor": 0,
  "metadata": {
    "colab": {
      "name": "RemoveElement-Array-Inplace.ipynb",
      "provenance": [],
      "collapsed_sections": []
    },
    "kernelspec": {
      "name": "python3",
      "display_name": "Python 3"
    }
  },
  "cells": [
    {
      "cell_type": "markdown",
      "metadata": {
        "id": "PQN7RbR-IOgQ",
        "colab_type": "text"
      },
      "source": [
        "**Remove Element from Array (In place)**"
      ]
    },
    {
      "cell_type": "markdown",
      "metadata": {
        "id": "RnOii2i2IdD5",
        "colab_type": "text"
      },
      "source": [
        "Given an array nums and a value val, remove all instances of that value in-place and return the new length.\n",
        "\n",
        "Do not allocate extra space for another array, you must do this by modifying the input array in-place with O(1) extra memory.\n",
        "\n",
        "The order of elements can be changed. It doesn't matter what you leave beyond the new length.\n",
        "\n",
        "Example 1:\n",
        "\n",
        "Given nums = [3,2,2,3], val = 3,\n",
        "\n",
        "Your function should return length = 2, with the first two elements of nums being 2.\n",
        "\n",
        "It doesn't matter what you leave beyond the returned length.\n",
        "Example 2:\n",
        "\n",
        "Given nums = [0,1,2,2,3,0,4,2], val = 2,\n",
        "\n",
        "Your function should return length = 5, with the first five elements of nums containing 0, 1, 3, 0, and 4.\n",
        "\n",
        "Note that the order of those five elements can be arbitrary.\n",
        "\n",
        "It doesn't matter what values are set beyond the returned length.\n",
        "Clarification:\n",
        "\n",
        "Confused why the returned value is an integer but your answer is an array?\n",
        "\n",
        "Note that the input array is passed in by reference, which means modification to the input array will be known to the caller as well.\n",
        "\n",
        "Internally you can think of this:\n",
        "\n",
        "// nums is passed in by reference. (i.e., without making a copy)\n",
        "int len = removeElement(nums, val);\n",
        "\n",
        "// any modification to nums in your function would be known by the caller.\n",
        "// using the length returned by your function, it prints the first len elements.\n",
        "for (int i = 0; i < len; i++) {\n",
        "    print(nums[i]);\n",
        "}"
      ]
    },
    {
      "cell_type": "code",
      "metadata": {
        "id": "GuN2sF8MHyoW",
        "colab_type": "code",
        "colab": {}
      },
      "source": [
        "class Solution:\n",
        "    def removeElement(self, nums: List[int], val: int) -> int:\n",
        "        i = 0\n",
        "        n = len(nums)\n",
        "        while i < n:\n",
        "            if nums[i] == val:\n",
        "                nums[i] = nums[n-1]\n",
        "                n -= 1\n",
        "            else:\n",
        "                i += 1\n",
        "        return n"
      ],
      "execution_count": 0,
      "outputs": []
    }
  ]
}