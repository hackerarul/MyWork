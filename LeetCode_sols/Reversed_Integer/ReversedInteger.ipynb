{
  "nbformat": 4,
  "nbformat_minor": 0,
  "metadata": {
    "colab": {
      "name": "ReversedInteger.ipynb",
      "provenance": []
    },
    "kernelspec": {
      "name": "python3",
      "display_name": "Python 3"
    }
  },
  "cells": [
    {
      "cell_type": "markdown",
      "metadata": {
        "id": "JLJ8jX_oGDTA",
        "colab_type": "text"
      },
      "source": [
        "**Reversed Integer**"
      ]
    },
    {
      "cell_type": "markdown",
      "metadata": {
        "id": "Vw4gAXIqF-R3",
        "colab_type": "text"
      },
      "source": [
        "Given a 32-bit signed integer, reverse digits of an integer.\n",
        "\n",
        "Example 1:\n",
        "\n",
        "Input: 123\n",
        "Output: 321\n",
        "Example 2:\n",
        "\n",
        "Input: -123\n",
        "Output: -321\n",
        "Example 3:\n",
        "\n",
        "Input: 120\n",
        "Output: 21\n",
        "Note:\n",
        "Assume we are dealing with an environment which could only store integers within the 32-bit signed integer range: [−231,  231 − 1]. For the purpose of this problem, assume that your function returns 0 when the reversed integer overflows."
      ]
    },
    {
      "cell_type": "code",
      "metadata": {
        "id": "VS3QgdnyF4FV",
        "colab_type": "code",
        "colab": {}
      },
      "source": [
        "class Solution:\n",
        "    def reverse(self, x: int) -> int:\n",
        "        digits = []\n",
        "        for digit in [i for i in str(abs(x))]:\n",
        "            if digit != 0:\n",
        "                digits.append(digit)\n",
        "        get_rev_num = lambda digits: int(''.join(str(i) for i in digits[::-1]))\n",
        "        if x<0:\n",
        "            result = get_rev_num(digits) * -1\n",
        "            return result if pow(-2,31) <= result <= (pow(2,31)-1) else 0\n",
        "        else:\n",
        "            result = get_rev_num(digits)\n",
        "            return result if pow(-2,31) <= result <= (pow(2,31)-1) else 0"
      ],
      "execution_count": 0,
      "outputs": []
    }
  ]
}