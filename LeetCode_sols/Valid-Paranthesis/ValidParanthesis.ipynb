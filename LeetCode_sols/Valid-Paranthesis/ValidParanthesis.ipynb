{
  "nbformat": 4,
  "nbformat_minor": 0,
  "metadata": {
    "colab": {
      "name": "ValidParanthesis.ipynb",
      "provenance": []
    },
    "kernelspec": {
      "name": "python3",
      "display_name": "Python 3"
    }
  },
  "cells": [
    {
      "cell_type": "markdown",
      "metadata": {
        "id": "fdGO0Li7eTFi",
        "colab_type": "text"
      },
      "source": [
        "**Checking for Valid Paranthesis.**"
      ]
    },
    {
      "cell_type": "markdown",
      "metadata": {
        "id": "qxCsnSQ0eYZi",
        "colab_type": "text"
      },
      "source": [
        "Given a string containing just the characters '(', ')', '{', '}', '[' and ']', determine if the input string is valid.\n",
        "\n",
        "An input string is valid if:\n",
        "\n",
        "Open brackets must be closed by the same type of brackets.\n",
        "Open brackets must be closed in the correct order.\n",
        "Note that an empty string is also considered valid.\n",
        "\n",
        "Example 1:\n",
        "\n",
        "Input: \"()\"\n",
        "Output: true\n",
        "Example 2:\n",
        "\n",
        "Input: \"()[]{}\"\n",
        "Output: true\n",
        "Example 3:\n",
        "\n",
        "Input: \"(]\"\n",
        "Output: false\n",
        "Example 4:\n",
        "\n",
        "Input: \"([)]\"\n",
        "Output: false\n",
        "Example 5:\n",
        "\n",
        "Input: \"{[]}\"\n",
        "Output: true"
      ]
    },
    {
      "cell_type": "code",
      "metadata": {
        "id": "C1mwTjNjeOPy",
        "colab_type": "code",
        "colab": {}
      },
      "source": [
        "class Solution:\n",
        "    def isValid(self, s: str) -> bool:\n",
        "        stack = []\n",
        "        mapping = {'{' : '}', '(':')','[':']'}\n",
        "        for char in s:\n",
        "            if char in ('{','(','['):\n",
        "                stack.append(char)\n",
        "            elif char in ('}',')',']'):\n",
        "                if stack:\n",
        "                    top = stack.pop()\n",
        "                    if mapping[top]!=char:\n",
        "                        return False\n",
        "                else:\n",
        "                    return False\n",
        "        \n",
        "        if len(stack)==0:\n",
        "            return True\n",
        "        else:\n",
        "            return False\n",
        "            "
      ],
      "execution_count": 0,
      "outputs": []
    }
  ]
}